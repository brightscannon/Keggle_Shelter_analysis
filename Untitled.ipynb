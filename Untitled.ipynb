{
 "cells": [
  {
   "cell_type": "markdown",
   "metadata": {},
   "source": [
    "1. 분석개요\n",
    "2. 분석의 주 목적과 얻어내야하는 것\n",
    "3. 데이터의 구조\n",
    "     - 외부기관 은행에서 나온 데이터 \n",
    "4. 파일설명\n",
    "    - 트레인, 테스트\n",
    "        - 칼럼종류 갯수, 특징 등.. 간단히 설명\n",
    "    - \n",
    "    \n",
    "    쏘이 NLP로 사전에 있는 명사텍스트데이터를 뽑아내보자\n",
    "    "
   ]
  }
 ],
 "metadata": {
  "kernelspec": {
   "display_name": "Python 3",
   "language": "python",
   "name": "python3"
  },
  "language_info": {
   "codemirror_mode": {
    "name": "ipython",
    "version": 3
   },
   "file_extension": ".py",
   "mimetype": "text/x-python",
   "name": "python",
   "nbconvert_exporter": "python",
   "pygments_lexer": "ipython3",
   "version": "3.6.3"
  }
 },
 "nbformat": 4,
 "nbformat_minor": 2
}
