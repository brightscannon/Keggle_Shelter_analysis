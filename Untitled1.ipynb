{
 "cells": [
  {
   "cell_type": "markdown",
   "metadata": {},
   "source": [
    "## Contents\n",
    "> ### 1. Project & Data\n",
    "- Introduction \n",
    "- Datasets - 데이터 소개\n",
    "- Evaluation - 평가기준\n",
    "\n",
    "> ### 2. EDA & Feature Engineering\n",
    "- EDA - 탐색적 자료 분석\n",
    "- Feature Engineering - 데이터 전처리\n",
    "\n",
    "> ### 3. Modeling & Cross Validation \n",
    "- DecisionTree\n",
    "- RandomForest\n",
    "- LightGBM (Gradient Boost)\n",
    "- Keras (Neural Network Model)\n",
    "\n",
    "> ### 4. Predict Target & Compaire kaggle score\n",
    "- Predict Test data Target from each best Models \n",
    "- Submit Kaggle and get Score \n",
    "\n",
    "> ### 5. Conclusion - 결론\n",
    "- 캐글스코어 및 순위\n",
    "- 프로젝트 목적과 얻어낸 insight 공유\n",
    "\n",
    "\n",
    "---"
   ]
  },
  {
   "cell_type": "markdown",
   "metadata": {},
   "source": [
    "#\n",
    "#\n",
    "#"
   ]
  }
 ],
 "metadata": {
  "kernelspec": {
   "display_name": "Python 3",
   "language": "python",
   "name": "python3"
  },
  "language_info": {
   "codemirror_mode": {
    "name": "ipython",
    "version": 3
   },
   "file_extension": ".py",
   "mimetype": "text/x-python",
   "name": "python",
   "nbconvert_exporter": "python",
   "pygments_lexer": "ipython3",
   "version": "3.6.3"
  }
 },
 "nbformat": 4,
 "nbformat_minor": 2
}
